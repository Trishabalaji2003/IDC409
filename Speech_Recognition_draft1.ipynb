{
  "metadata": {
    "kernelspec": {
      "language": "python",
      "display_name": "Python 3",
      "name": "python3"
    },
    "language_info": {
      "name": "python",
      "version": "3.7.12",
      "mimetype": "text/x-python",
      "codemirror_mode": {
        "name": "ipython",
        "version": 3
      },
      "pygments_lexer": "ipython3",
      "nbconvert_exporter": "python",
      "file_extension": ".py"
    },
    "colab": {
      "provenance": []
    },
    "gpuClass": "standard"
  },
  "nbformat_minor": 0,
  "nbformat": 4,
  "cells": [
    {
      "cell_type": "code",
      "source": [
        "import numpy as np\n",
        "from sklearn.utils import shuffle\n",
        "import tensorflow.keras as ke\n",
        "from google.colab import drive\n",
        "import tensorflow as tf\n",
        "import gc\n",
        "drive.mount(\"/content/drive\")"
      ],
      "metadata": {
        "execution": {
          "iopub.status.busy": "2023-04-01T16:24:14.450295Z",
          "iopub.execute_input": "2023-04-01T16:24:14.450679Z",
          "iopub.status.idle": "2023-04-01T16:24:31.092691Z",
          "shell.execute_reply.started": "2023-04-01T16:24:14.450644Z",
          "shell.execute_reply": "2023-04-01T16:24:31.091553Z"
        },
        "trusted": true,
        "colab": {
          "base_uri": "https://localhost:8080/"
        },
        "id": "hW8B_45G1sN9",
        "outputId": "2d045a6f-ca6a-4e30-f081-140191a04ec7"
      },
      "execution_count": null,
      "outputs": [
        {
          "output_type": "stream",
          "name": "stdout",
          "text": [
            "Drive already mounted at /content/drive; to attempt to forcibly remount, call drive.mount(\"/content/drive\", force_remount=True).\n"
          ]
        }
      ]
    },
    {
      "cell_type": "code",
      "source": [
        "X = np.load(\"/content/drive/MyDrive/trail/dev_data.npy\",allow_pickle=True,encoding=\"bytes\")\n",
        "Y = np.load(\"/content/drive/MyDrive/trial/dev_labels.npy\",allow_pickle=True,encoding=\"bytes\")"
      ],
      "metadata": {
        "execution": {
          "iopub.status.busy": "2023-04-01T16:52:54.800421Z",
          "iopub.execute_input": "2023-04-01T16:52:54.800817Z",
          "iopub.status.idle": "2023-04-01T16:53:10.769377Z",
          "shell.execute_reply.started": "2023-04-01T16:52:54.800782Z",
          "shell.execute_reply": "2023-04-01T16:53:10.767932Z"
        },
        "trusted": true,
        "id": "jrFVFgVx1sN9"
      },
      "execution_count": null,
      "outputs": []
    },
    {
      "cell_type": "code",
      "source": [
        "maxL = 30"
      ],
      "metadata": {
        "id": "wYyrJfUWIYqw"
      },
      "execution_count": null,
      "outputs": []
    },
    {
      "cell_type": "markdown",
      "source": [
        "# Old Models"
      ],
      "metadata": {
        "id": "g3CrzCy11sN_"
      }
    },
    {
      "cell_type": "code",
      "source": [
        "import tensorflow as tf\n",
        "from tensorflow.keras import layers\n",
        "\n",
        "model = tf.keras.Sequential()\n",
        "\n",
        "model.add(tf.keras.layers.Reshape((30, 40), input_shape=(30, 40)))\n",
        "model.add(tf.keras.layers.LSTM(128, activation='sigmoid', return_sequences=True))\n",
        "model.add(tf.keras.layers.LSTM(128, activation='sigmoid', return_sequences=True, go_backwards=True))\n",
        "model.add(tf.keras.layers.Bidirectional(tf.keras.layers.LSTM(128, activation='sigmoid', return_sequences=True)))\n",
        "model.add(tf.keras.layers.GlobalMaxPooling1D())\n",
        "model.add(tf.keras.layers.Dense(46, activation='softmax'))\n",
        "\n",
        "model.compile(loss=tf.keras.losses.SparseCategoricalCrossentropy(from_logits=False),\n",
        "              metrics=['accuracy'],\n",
        "              optimizer=tf.keras.optimizers.Adam(learning_rate=0.1))\n",
        "\n",
        "model.summary()\n"
      ],
      "metadata": {
        "colab": {
          "base_uri": "https://localhost:8080/"
        },
        "id": "0tFmLqnTmSXN",
        "outputId": "88f42ecb-04eb-4ea1-b8c5-b7c19c082fc3"
      },
      "execution_count": null,
      "outputs": [
        {
          "output_type": "stream",
          "name": "stdout",
          "text": [
            "Model: \"sequential_3\"\n",
            "_________________________________________________________________\n",
            " Layer (type)                Output Shape              Param #   \n",
            "=================================================================\n",
            " reshape_3 (Reshape)         (None, 30, 40)            0         \n",
            "                                                                 \n",
            " lstm_9 (LSTM)               (None, 30, 128)           86528     \n",
            "                                                                 \n",
            " lstm_10 (LSTM)              (None, 30, 128)           131584    \n",
            "                                                                 \n",
            " bidirectional_3 (Bidirectio  (None, 30, 256)          263168    \n",
            " nal)                                                            \n",
            "                                                                 \n",
            " global_max_pooling1d_2 (Glo  (None, 256)              0         \n",
            " balMaxPooling1D)                                                \n",
            "                                                                 \n",
            " dense_3 (Dense)             (None, 46)                11822     \n",
            "                                                                 \n",
            "=================================================================\n",
            "Total params: 493,102\n",
            "Trainable params: 493,102\n",
            "Non-trainable params: 0\n",
            "_________________________________________________________________\n"
          ]
        }
      ]
    },
    {
      "cell_type": "code",
      "source": [
        "import tensorflow as tf\n",
        "from tensorflow.keras import layers\n",
        "\n",
        "# Define the input shape\n",
        "input_shape = (None, 40, 1)  # Variable length sequences of 40x1 dimensional vectors\n",
        "\n",
        "# Define the input layer\n",
        "inputs = layers.Input(shape=input_shape)\n",
        "\n",
        "# Add the convolutional layers\n",
        "x = layers.Conv2D(filters=32, kernel_size=(3, 3), padding='same')(inputs)\n",
        "x = layers.BatchNormalization()(x)\n",
        "x = layers.Activation('relu')(x)\n",
        "x = layers.MaxPooling2D(pool_size=(2, 2))(x)\n",
        "x = layers.Dropout(0.5)(x) # added () to dropout layer\n",
        "x = layers.Conv2D(filters=64, kernel_size=(3, 3), padding='same')(x)\n",
        "x = layers.BatchNormalization()(x)\n",
        "x = layers.Activation('relu')(x)\n",
        "x = layers.MaxPooling2D(pool_size=(2, 2))(x)\n",
        "\n",
        "# Reshape for the LSTM layers\n",
        "x = layers.Reshape((-1, 64))(x)\n",
        "\n",
        "# Add the recurrent layers with attention mechanism\n",
        "hidden_size = 128\n",
        "x = layers.Bidirectional(layers.LSTM(units=hidden_size, return_sequences=True))(x)\n",
        "x = layers.Attention()([x, x])\n",
        "x = layers.BatchNormalization()(x)\n",
        "x = layers.Dropout(0.5)(x)\n",
        "x = layers.Bidirectional(layers.LSTM(units=hidden_size))(x)\n",
        "x = layers.BatchNormalization()(x)\n",
        "\n",
        "# Add the output layer\n",
        "x = layers.Dense(units=128, activation='relu')(x)\n",
        "outputs = layers.Dense(units=46, activation='softmax')(x)\n",
        "\n",
        "model = tf.keras.Model(inputs=inputs, outputs=outputs)\n",
        "model.compile(loss=tf.keras.losses.SparseCategoricalCrossentropy(from_logits=False),\n",
        "              metrics=['accuracy'],\n",
        "              optimizer=tf.keras.optimizers.Adam(lr=0.1))\n",
        "model.summary()\n"
      ],
      "metadata": {
        "colab": {
          "base_uri": "https://localhost:8080/"
        },
        "id": "UJZzsw6TNGR4",
        "outputId": "ff7ac529-5692-414f-feee-1e59cc47c880"
      },
      "execution_count": null,
      "outputs": [
        {
          "output_type": "stream",
          "name": "stderr",
          "text": [
            "WARNING:absl:`lr` is deprecated in Keras optimizer, please use `learning_rate` or use the legacy optimizer, e.g.,tf.keras.optimizers.legacy.Adam.\n"
          ]
        },
        {
          "output_type": "stream",
          "name": "stdout",
          "text": [
            "Model: \"model\"\n",
            "__________________________________________________________________________________________________\n",
            " Layer (type)                   Output Shape         Param #     Connected to                     \n",
            "==================================================================================================\n",
            " input_1 (InputLayer)           [(None, None, 40, 1  0           []                               \n",
            "                                )]                                                                \n",
            "                                                                                                  \n",
            " conv2d (Conv2D)                (None, None, 40, 32  320         ['input_1[0][0]']                \n",
            "                                )                                                                 \n",
            "                                                                                                  \n",
            " batch_normalization (BatchNorm  (None, None, 40, 32  128        ['conv2d[0][0]']                 \n",
            " alization)                     )                                                                 \n",
            "                                                                                                  \n",
            " activation (Activation)        (None, None, 40, 32  0           ['batch_normalization[0][0]']    \n",
            "                                )                                                                 \n",
            "                                                                                                  \n",
            " max_pooling2d (MaxPooling2D)   (None, None, 20, 32  0           ['activation[0][0]']             \n",
            "                                )                                                                 \n",
            "                                                                                                  \n",
            " dropout (Dropout)              (None, None, 20, 32  0           ['max_pooling2d[0][0]']          \n",
            "                                )                                                                 \n",
            "                                                                                                  \n",
            " conv2d_1 (Conv2D)              (None, None, 20, 64  18496       ['dropout[0][0]']                \n",
            "                                )                                                                 \n",
            "                                                                                                  \n",
            " batch_normalization_1 (BatchNo  (None, None, 20, 64  256        ['conv2d_1[0][0]']               \n",
            " rmalization)                   )                                                                 \n",
            "                                                                                                  \n",
            " activation_1 (Activation)      (None, None, 20, 64  0           ['batch_normalization_1[0][0]']  \n",
            "                                )                                                                 \n",
            "                                                                                                  \n",
            " max_pooling2d_1 (MaxPooling2D)  (None, None, 10, 64  0          ['activation_1[0][0]']           \n",
            "                                )                                                                 \n",
            "                                                                                                  \n",
            " reshape (Reshape)              (None, None, 64)     0           ['max_pooling2d_1[0][0]']        \n",
            "                                                                                                  \n",
            " bidirectional (Bidirectional)  (None, None, 256)    197632      ['reshape[0][0]']                \n",
            "                                                                                                  \n",
            " attention (Attention)          (None, None, 256)    0           ['bidirectional[0][0]',          \n",
            "                                                                  'bidirectional[0][0]']          \n",
            "                                                                                                  \n",
            " batch_normalization_2 (BatchNo  (None, None, 256)   1024        ['attention[0][0]']              \n",
            " rmalization)                                                                                     \n",
            "                                                                                                  \n",
            " dropout_1 (Dropout)            (None, None, 256)    0           ['batch_normalization_2[0][0]']  \n",
            "                                                                                                  \n",
            " bidirectional_1 (Bidirectional  (None, 256)         394240      ['dropout_1[0][0]']              \n",
            " )                                                                                                \n",
            "                                                                                                  \n",
            " batch_normalization_3 (BatchNo  (None, 256)         1024        ['bidirectional_1[0][0]']        \n",
            " rmalization)                                                                                     \n",
            "                                                                                                  \n",
            " dense (Dense)                  (None, 128)          32896       ['batch_normalization_3[0][0]']  \n",
            "                                                                                                  \n",
            " dense_1 (Dense)                (None, 46)           5934        ['dense[0][0]']                  \n",
            "                                                                                                  \n",
            "==================================================================================================\n",
            "Total params: 651,950\n",
            "Trainable params: 650,734\n",
            "Non-trainable params: 1,216\n",
            "__________________________________________________________________________________________________\n"
          ]
        }
      ]
    },
    {
      "cell_type": "code",
      "source": [
        "import tensorflow as tf\n",
        "from tensorflow.keras import layers\n",
        "\n",
        "# Define the input shape\n",
        "input_shape = (30, 40, 1)  # Variable length sequences of 40x1 dimensional vectors\n",
        "\n",
        "# Define the input layer\n",
        "inputs = layers.Input(shape=input_shape)\n",
        "\n",
        "# Add the convolutional layers\n",
        "x = layers.Conv2D(filters=40, kernel_size=(2, 2), padding='same')(inputs)\n",
        "x = layers.BatchNormalization()(x)\n",
        "x = layers.Activation('relu')(x)\n",
        "x = layers.MaxPooling2D(pool_size=(2, 2))(x)\n",
        "x = layers.Dropout(0.5)(x) # added () to dropout layer\n",
        "# Reshape for the LSTM layers\n",
        "x = layers.Flatten()(x)\n",
        "\n",
        "# Add the recurrent layers\n",
        "\n",
        "# Add the output layer\n",
        "x = layers.Dense(units=128, activation='relu')(x)\n",
        "outputs = layers.Dense(units=46, activation='softmax')(x)\n",
        "\n",
        "model = tf.keras.Model(inputs=inputs, outputs=outputs)\n",
        "model.compile(loss=tf.keras.losses.SparseCategoricalCrossentropy(from_logits=False),\n",
        "              metrics=['accuracy'],\n",
        "              optimizer=tf.keras.optimizers.Adam(lr=0.001))\n",
        "model.summary()\n"
      ],
      "metadata": {
        "execution": {
          "iopub.status.busy": "2023-04-01T16:52:09.206236Z",
          "iopub.execute_input": "2023-04-01T16:52:09.206962Z",
          "iopub.status.idle": "2023-04-01T16:52:09.317106Z",
          "shell.execute_reply.started": "2023-04-01T16:52:09.206921Z",
          "shell.execute_reply": "2023-04-01T16:52:09.316301Z"
        },
        "trusted": true,
        "colab": {
          "base_uri": "https://localhost:8080/"
        },
        "id": "WNxRv5K21sOA",
        "outputId": "db603824-a5b4-49c5-ade5-93f6c3da3972"
      },
      "execution_count": null,
      "outputs": [
        {
          "output_type": "stream",
          "name": "stderr",
          "text": [
            "WARNING:absl:`lr` is deprecated in Keras optimizer, please use `learning_rate` or use the legacy optimizer, e.g.,tf.keras.optimizers.legacy.Adam.\n"
          ]
        },
        {
          "output_type": "stream",
          "name": "stdout",
          "text": [
            "Model: \"model_1\"\n",
            "_________________________________________________________________\n",
            " Layer (type)                Output Shape              Param #   \n",
            "=================================================================\n",
            " input_5 (InputLayer)        [(None, 30, 40, 1)]       0         \n",
            "                                                                 \n",
            " conv2d_4 (Conv2D)           (None, 30, 40, 40)        200       \n",
            "                                                                 \n",
            " batch_normalization_6 (Batc  (None, 30, 40, 40)       160       \n",
            " hNormalization)                                                 \n",
            "                                                                 \n",
            " activation_4 (Activation)   (None, 30, 40, 40)        0         \n",
            "                                                                 \n",
            " max_pooling2d_4 (MaxPooling  (None, 15, 20, 40)       0         \n",
            " 2D)                                                             \n",
            "                                                                 \n",
            " dropout_5 (Dropout)         (None, 15, 20, 40)        0         \n",
            "                                                                 \n",
            " flatten_1 (Flatten)         (None, 12000)             0         \n",
            "                                                                 \n",
            " dense_2 (Dense)             (None, 128)               1536128   \n",
            "                                                                 \n",
            " dense_3 (Dense)             (None, 46)                5934      \n",
            "                                                                 \n",
            "=================================================================\n",
            "Total params: 1,542,422\n",
            "Trainable params: 1,542,342\n",
            "Non-trainable params: 80\n",
            "_________________________________________________________________\n"
          ]
        }
      ]
    },
    {
      "cell_type": "markdown",
      "source": [
        "# New Model Bi LSTM"
      ],
      "metadata": {
        "id": "bLfY1cPEqesA"
      }
    },
    {
      "cell_type": "code",
      "source": [
        "import tensorflow as tf\n",
        "from tensorflow.keras import layers\n",
        "\n",
        "# Define the input shape\n",
        "input_shape = (None, 40)  # Variable length sequences of 40-dimensional vectors\n",
        "\n",
        "# Define the input layer\n",
        "inputs = layers.Input(shape=input_shape)\n",
        "\n",
        "# Add the convolutional layer\n",
        "x = layers.Conv1D(filters=32, kernel_size=3, activation='relu')(inputs)\n",
        "x = layers.MaxPooling1D(pool_size=2)(x)\n",
        "x = layers.Dropout(0.2)(x)\n",
        "\n",
        "# Add more convolutional layers\n",
        "x = layers.Conv1D(filters=64, kernel_size=3, activation='relu')(x)\n",
        "x = layers.MaxPooling1D(pool_size=2)(x)\n",
        "x = layers.Dropout(0.2)(x)\n",
        "\n",
        "x = layers.Conv1D(filters=128, kernel_size=3, activation='relu')(x)\n",
        "x = layers.MaxPooling1D(pool_size=2)(x)\n",
        "x = layers.Dropout(0.2)(x)\n",
        "\n",
        "# Add the recurrent layers\n",
        "x = layers.LSTM(units=256, return_sequences=True)(x)\n",
        "x = layers.BatchNormalization()(x)\n",
        "x = layers.LSTM(units=128)(x)\n",
        "x = layers.BatchNormalization()(x)\n",
        "\n",
        "# Add the output layer\n",
        "x = layers.Dense(units=128, activation='relu')(x)\n",
        "outputs = layers.Dense(units=46, activation='softmax')(x)\n",
        "model = tf.keras.Model(inputs=inputs, outputs=outputs)\n",
        "model.summary()"
      ],
      "metadata": {
        "colab": {
          "base_uri": "https://localhost:8080/"
        },
        "id": "bntJz6AeqkcR",
        "outputId": "de21aa9f-95e4-40ed-93c9-90bbb16dee2b"
      },
      "execution_count": null,
      "outputs": [
        {
          "output_type": "stream",
          "name": "stdout",
          "text": [
            "Model: \"model_14\"\n",
            "_________________________________________________________________\n",
            " Layer (type)                Output Shape              Param #   \n",
            "=================================================================\n",
            " input_23 (InputLayer)       [(None, None, 40)]        0         \n",
            "                                                                 \n",
            " conv1d_5 (Conv1D)           (None, None, 32)          3872      \n",
            "                                                                 \n",
            " max_pooling1d_5 (MaxPooling  (None, None, 32)         0         \n",
            " 1D)                                                             \n",
            "                                                                 \n",
            " dropout_3 (Dropout)         (None, None, 32)          0         \n",
            "                                                                 \n",
            " conv1d_6 (Conv1D)           (None, None, 64)          6208      \n",
            "                                                                 \n",
            " max_pooling1d_6 (MaxPooling  (None, None, 64)         0         \n",
            " 1D)                                                             \n",
            "                                                                 \n",
            " dropout_4 (Dropout)         (None, None, 64)          0         \n",
            "                                                                 \n",
            " conv1d_7 (Conv1D)           (None, None, 128)         24704     \n",
            "                                                                 \n",
            " max_pooling1d_7 (MaxPooling  (None, None, 128)        0         \n",
            " 1D)                                                             \n",
            "                                                                 \n",
            " dropout_5 (Dropout)         (None, None, 128)         0         \n",
            "                                                                 \n",
            " lstm_16 (LSTM)              (None, None, 256)         394240    \n",
            "                                                                 \n",
            " batch_normalization_2 (Batc  (None, None, 256)        1024      \n",
            " hNormalization)                                                 \n",
            "                                                                 \n",
            " lstm_17 (LSTM)              (None, 128)               197120    \n",
            "                                                                 \n",
            " batch_normalization_3 (Batc  (None, 128)              512       \n",
            " hNormalization)                                                 \n",
            "                                                                 \n",
            " dense_23 (Dense)            (None, 128)               16512     \n",
            "                                                                 \n",
            " dense_24 (Dense)            (None, 46)                5934      \n",
            "                                                                 \n",
            "=================================================================\n",
            "Total params: 650,126\n",
            "Trainable params: 649,358\n",
            "Non-trainable params: 768\n",
            "_________________________________________________________________\n"
          ]
        }
      ]
    },
    {
      "cell_type": "code",
      "source": [
        "model.compile(optimizer='adam',\n",
        "              loss='categorical_crossentropy',\n",
        "              metrics=['categorical_accuracy'])"
      ],
      "metadata": {
        "id": "6ys5OYf5uv_6"
      },
      "execution_count": null,
      "outputs": []
    },
    {
      "cell_type": "markdown",
      "source": [
        "# Data Generator"
      ],
      "metadata": {
        "id": "alcD67xUrOc6"
      }
    },
    {
      "cell_type": "code",
      "source": [
        "#Split\n",
        "x= Spl(X)\n",
        "x,y = shuffle(x,y)\n",
        "x_t = x[:-25000]\n",
        "y_t = y[:-25000]\n",
        "\n",
        "x_v = x[-25000:]\n",
        "y_v = y[-25000:]"
      ],
      "metadata": {
        "id": "T9CrIrbQwOKd"
      },
      "execution_count": null,
      "outputs": []
    },
    {
      "cell_type": "code",
      "source": [
        "class DataGenerator(Sequence):\n",
        "    def __init__(self, x, y, batch_size):\n",
        "        self.x = x\n",
        "        self.y = y\n",
        "        self.batch_size = batch_size\n",
        "        self.indices = np.arange(len(x))\n",
        "\n",
        "    def __len__(self):\n",
        "        return int(np.ceil(len(self.x) / self.batch_size))\n",
        "\n",
        "    def __getitem__(self, idx):\n",
        "        batch_indices = self.indices[idx*self.batch_size:(idx+1)*self.batch_size]\n",
        "        batch_x = [self.x[i] for i in batch_indices]\n",
        "        batch_y = self.y[batch_indices]\n",
        "        max_length = max(len(x) for x in batch_x)\n",
        "        padded_x = np.zeros((len(batch_x), max_length, 40))\n",
        "        for i, x in enumerate(batch_x):\n",
        "            padded_x[i, :len(x), :] = x\n",
        "        return padded_x, batch_y\n",
        "\n",
        "# Create data generators for training and validation\n",
        "#train_generator = DataGenerator(x_t, y_t, batch_size=1000)\n",
        "#val_generator = DataGenerator(x_v, y_v, batch_size=1000)\n"
      ],
      "metadata": {
        "id": "0SVvdXNRr9Cy",
        "colab": {
          "base_uri": "https://localhost:8080/",
          "height": 235
        },
        "outputId": "74f95cc8-0305-4ab2-fe42-ca22c93fc68a"
      },
      "execution_count": null,
      "outputs": [
        {
          "output_type": "error",
          "ename": "NameError",
          "evalue": "ignored",
          "traceback": [
            "\u001b[0;31m---------------------------------------------------------------------------\u001b[0m",
            "\u001b[0;31mNameError\u001b[0m                                 Traceback (most recent call last)",
            "\u001b[0;32m<ipython-input-1-cca3bf097866>\u001b[0m in \u001b[0;36m<cell line: 1>\u001b[0;34m()\u001b[0m\n\u001b[0;32m----> 1\u001b[0;31m \u001b[0;32mclass\u001b[0m \u001b[0mDataGenerator\u001b[0m\u001b[0;34m(\u001b[0m\u001b[0mSequence\u001b[0m\u001b[0;34m)\u001b[0m\u001b[0;34m:\u001b[0m\u001b[0;34m\u001b[0m\u001b[0;34m\u001b[0m\u001b[0m\n\u001b[0m\u001b[1;32m      2\u001b[0m     \u001b[0;32mdef\u001b[0m \u001b[0m__init__\u001b[0m\u001b[0;34m(\u001b[0m\u001b[0mself\u001b[0m\u001b[0;34m,\u001b[0m \u001b[0mx\u001b[0m\u001b[0;34m,\u001b[0m \u001b[0my\u001b[0m\u001b[0;34m,\u001b[0m \u001b[0mbatch_size\u001b[0m\u001b[0;34m)\u001b[0m\u001b[0;34m:\u001b[0m\u001b[0;34m\u001b[0m\u001b[0;34m\u001b[0m\u001b[0m\n\u001b[1;32m      3\u001b[0m         \u001b[0mself\u001b[0m\u001b[0;34m.\u001b[0m\u001b[0mx\u001b[0m \u001b[0;34m=\u001b[0m \u001b[0mx\u001b[0m\u001b[0;34m\u001b[0m\u001b[0;34m\u001b[0m\u001b[0m\n\u001b[1;32m      4\u001b[0m         \u001b[0mself\u001b[0m\u001b[0;34m.\u001b[0m\u001b[0my\u001b[0m \u001b[0;34m=\u001b[0m \u001b[0my\u001b[0m\u001b[0;34m\u001b[0m\u001b[0;34m\u001b[0m\u001b[0m\n\u001b[1;32m      5\u001b[0m         \u001b[0mself\u001b[0m\u001b[0;34m.\u001b[0m\u001b[0mbatch_size\u001b[0m \u001b[0;34m=\u001b[0m \u001b[0mbatch_size\u001b[0m\u001b[0;34m\u001b[0m\u001b[0;34m\u001b[0m\u001b[0m\n",
            "\u001b[0;31mNameError\u001b[0m: name 'Sequence' is not defined"
          ]
        }
      ]
    },
    {
      "cell_type": "markdown",
      "source": [
        "# Training Stuff"
      ],
      "metadata": {
        "id": "9GF9OeZtp4sx"
      }
    },
    {
      "cell_type": "code",
      "source": [
        "y=np.hstack(Y)\n",
        "y = np.eye(46)[y]"
      ],
      "metadata": {
        "execution": {
          "iopub.status.busy": "2023-04-01T16:54:19.555139Z",
          "iopub.execute_input": "2023-04-01T16:54:19.555563Z",
          "iopub.status.idle": "2023-04-01T16:54:19.578395Z",
          "shell.execute_reply.started": "2023-04-01T16:54:19.555527Z",
          "shell.execute_reply": "2023-04-01T16:54:19.577012Z"
        },
        "trusted": true,
        "id": "H3nmr5Vy1sOB"
      },
      "execution_count": null,
      "outputs": []
    },
    {
      "cell_type": "code",
      "source": [],
      "metadata": {
        "colab": {
          "base_uri": "https://localhost:8080/"
        },
        "id": "41F04DRDS5PK",
        "outputId": "a4d60311-c078-472e-cabc-e6157471c645"
      },
      "execution_count": null,
      "outputs": [
        {
          "output_type": "execute_result",
          "data": {
            "text/plain": [
              "TensorShape([None, 64])"
            ]
          },
          "metadata": {},
          "execution_count": 39
        }
      ]
    },
    {
      "cell_type": "code",
      "source": [
        "#To observe the Minimum and Maximum\n",
        "maxxx=0\n",
        "for i in x:\n",
        "  if np.min(i)<maxxx:\n",
        "    maxxx=np.min(i)\n",
        "print(maxxx)"
      ],
      "metadata": {
        "colab": {
          "base_uri": "https://localhost:8080/"
        },
        "id": "2Qz__l5rqTNR",
        "outputId": "a9457357-8e5d-44d7-a3c1-298966f9de3f"
      },
      "execution_count": null,
      "outputs": [
        {
          "output_type": "stream",
          "name": "stdout",
          "text": [
            "-0.9530866\n"
          ]
        }
      ]
    },
    {
      "cell_type": "code",
      "source": [
        "def Spl(X):\n",
        "  x=[]\n",
        "  for i in range(len(X)):\n",
        "      for j in range(len(X[i][1])-1):\n",
        "          t = X[i][0][X[i][1][j]:X[i][1][j+1]]\n",
        "          x.append(t/145)\n",
        "      t = np.array(X[i][0][X[i][1][j]:])\n",
        "      x.append(t/145)\n",
        "  x = np.array(x,dtype=object)\n",
        "  return x"
      ],
      "metadata": {
        "execution": {
          "iopub.status.busy": "2023-04-01T16:53:55.589621Z",
          "iopub.execute_input": "2023-04-01T16:53:55.590067Z",
          "iopub.status.idle": "2023-04-01T16:53:55.851763Z",
          "shell.execute_reply.started": "2023-04-01T16:53:55.590033Z",
          "shell.execute_reply": "2023-04-01T16:53:55.850617Z"
        },
        "trusted": true,
        "id": "3cu1U2nY1sN-"
      },
      "execution_count": null,
      "outputs": []
    },
    {
      "cell_type": "code",
      "source": [],
      "metadata": {
        "id": "TVrmOjuKvPaE"
      },
      "execution_count": null,
      "outputs": []
    },
    {
      "cell_type": "code",
      "source": [
        "#Not following this approach anymore\n",
        "x=ke.preprocessing.sequence.pad_sequences(x, padding=\"pre\",maxlen=maxL)\n",
        "x = np.reshape(x,(len(x),maxL,40,1))\n",
        "x.shape"
      ],
      "metadata": {
        "execution": {
          "iopub.status.busy": "2023-04-01T16:54:22.194994Z",
          "iopub.execute_input": "2023-04-01T16:54:22.196451Z",
          "iopub.status.idle": "2023-04-01T16:54:22.204729Z",
          "shell.execute_reply.started": "2023-04-01T16:54:22.196395Z",
          "shell.execute_reply": "2023-04-01T16:54:22.203346Z"
        },
        "trusted": true,
        "colab": {
          "base_uri": "https://localhost:8080/"
        },
        "id": "7He9kQIl1sOB",
        "outputId": "35888f4d-4120-4b8c-85d3-13bbb6cfaf2a"
      },
      "execution_count": null,
      "outputs": [
        {
          "output_type": "execute_result",
          "data": {
            "text/plain": [
              "(312274, 30, 40, 1)"
            ]
          },
          "metadata": {},
          "execution_count": 17
        }
      ]
    },
    {
      "cell_type": "code",
      "source": [
        "model.fit(x,y,epochs=20,validation_split=0.1,verbose=1,batch_size=3000)"
      ],
      "metadata": {
        "execution": {
          "iopub.status.busy": "2023-04-01T16:54:27.124667Z",
          "iopub.execute_input": "2023-04-01T16:54:27.125052Z",
          "iopub.status.idle": "2023-04-01T16:56:06.407442Z",
          "shell.execute_reply.started": "2023-04-01T16:54:27.125017Z",
          "shell.execute_reply": "2023-04-01T16:56:06.406332Z"
        },
        "trusted": true,
        "id": "kkyF9BJS1sOB"
      },
      "execution_count": null,
      "outputs": []
    },
    {
      "cell_type": "markdown",
      "source": [
        "## New Fit Strategy"
      ],
      "metadata": {
        "id": "B6UGwa_KvdSS"
      }
    },
    {
      "cell_type": "code",
      "source": [
        "model.fit_generator(generator=train_generator,\n",
        "                    validation_data=val_generator,\n",
        "                    epochs=200)"
      ],
      "metadata": {
        "colab": {
          "base_uri": "https://localhost:8080/",
          "height": 1000
        },
        "id": "81LHd9ajqOqk",
        "outputId": "f0698c6d-72d4-4951-8ee7-537064282010"
      },
      "execution_count": null,
      "outputs": [
        {
          "output_type": "stream",
          "name": "stdout",
          "text": [
            "Epoch 1/200\n"
          ]
        },
        {
          "output_type": "stream",
          "name": "stderr",
          "text": [
            "<ipython-input-107-66b7c9a4c613>:1: UserWarning: `Model.fit_generator` is deprecated and will be removed in a future version. Please use `Model.fit`, which supports generators.\n",
            "  model.fit_generator(generator=train_generator,\n"
          ]
        },
        {
          "output_type": "stream",
          "name": "stdout",
          "text": [
            "109/109 [==============================] - 72s 56ms/step - loss: 1.4199 - categorical_accuracy: 0.5731 - val_loss: 1.3650 - val_categorical_accuracy: 0.5994\n",
            "Epoch 2/200\n",
            "109/109 [==============================] - 4s 34ms/step - loss: 1.4148 - categorical_accuracy: 0.5730 - val_loss: 1.3659 - val_categorical_accuracy: 0.6020\n",
            "Epoch 3/200\n",
            "109/109 [==============================] - 4s 34ms/step - loss: 1.4069 - categorical_accuracy: 0.5751 - val_loss: 1.3668 - val_categorical_accuracy: 0.6015\n",
            "Epoch 4/200\n",
            "109/109 [==============================] - 4s 38ms/step - loss: 1.4037 - categorical_accuracy: 0.5776 - val_loss: 1.3821 - val_categorical_accuracy: 0.6028\n",
            "Epoch 5/200\n",
            "109/109 [==============================] - 4s 33ms/step - loss: 1.3986 - categorical_accuracy: 0.5776 - val_loss: 1.3480 - val_categorical_accuracy: 0.6048\n",
            "Epoch 6/200\n",
            "109/109 [==============================] - 4s 34ms/step - loss: 1.3942 - categorical_accuracy: 0.5800 - val_loss: 1.3589 - val_categorical_accuracy: 0.6014\n",
            "Epoch 7/200\n",
            "109/109 [==============================] - 4s 36ms/step - loss: 1.3900 - categorical_accuracy: 0.5825 - val_loss: 1.3672 - val_categorical_accuracy: 0.6031\n",
            "Epoch 8/200\n",
            "109/109 [==============================] - 4s 35ms/step - loss: 1.3867 - categorical_accuracy: 0.5811 - val_loss: 1.3619 - val_categorical_accuracy: 0.6000\n",
            "Epoch 9/200\n",
            "109/109 [==============================] - 4s 33ms/step - loss: 1.3824 - categorical_accuracy: 0.5833 - val_loss: 1.3502 - val_categorical_accuracy: 0.6050\n",
            "Epoch 10/200\n",
            "109/109 [==============================] - 4s 36ms/step - loss: 1.3822 - categorical_accuracy: 0.5830 - val_loss: 1.3554 - val_categorical_accuracy: 0.6032\n",
            "Epoch 11/200\n",
            "109/109 [==============================] - 4s 37ms/step - loss: 1.3755 - categorical_accuracy: 0.5831 - val_loss: 1.3453 - val_categorical_accuracy: 0.6044\n",
            "Epoch 12/200\n",
            "109/109 [==============================] - 4s 33ms/step - loss: 1.3693 - categorical_accuracy: 0.5851 - val_loss: 1.3454 - val_categorical_accuracy: 0.6064\n",
            "Epoch 13/200\n",
            "109/109 [==============================] - 4s 33ms/step - loss: 1.3652 - categorical_accuracy: 0.5865 - val_loss: 1.3418 - val_categorical_accuracy: 0.6102\n",
            "Epoch 14/200\n",
            "109/109 [==============================] - 4s 36ms/step - loss: 1.3645 - categorical_accuracy: 0.5869 - val_loss: 1.3404 - val_categorical_accuracy: 0.6085\n",
            "Epoch 15/200\n",
            "109/109 [==============================] - 4s 34ms/step - loss: 1.3636 - categorical_accuracy: 0.5874 - val_loss: 1.3457 - val_categorical_accuracy: 0.6077\n",
            "Epoch 16/200\n",
            "109/109 [==============================] - 4s 35ms/step - loss: 1.3595 - categorical_accuracy: 0.5881 - val_loss: 1.3389 - val_categorical_accuracy: 0.6083\n",
            "Epoch 17/200\n",
            "109/109 [==============================] - 4s 36ms/step - loss: 1.3563 - categorical_accuracy: 0.5903 - val_loss: 1.3348 - val_categorical_accuracy: 0.6108\n",
            "Epoch 18/200\n",
            "109/109 [==============================] - 4s 34ms/step - loss: 1.3541 - categorical_accuracy: 0.5901 - val_loss: 1.3331 - val_categorical_accuracy: 0.6128\n",
            "Epoch 19/200\n",
            "109/109 [==============================] - 4s 39ms/step - loss: 1.3515 - categorical_accuracy: 0.5910 - val_loss: 1.3353 - val_categorical_accuracy: 0.6093\n",
            "Epoch 20/200\n",
            "109/109 [==============================] - 4s 37ms/step - loss: 1.3453 - categorical_accuracy: 0.5919 - val_loss: 1.3308 - val_categorical_accuracy: 0.6119\n",
            "Epoch 21/200\n",
            "109/109 [==============================] - 4s 34ms/step - loss: 1.3396 - categorical_accuracy: 0.5941 - val_loss: 1.3373 - val_categorical_accuracy: 0.6115\n",
            "Epoch 22/200\n",
            "109/109 [==============================] - 4s 33ms/step - loss: 1.3389 - categorical_accuracy: 0.5953 - val_loss: 1.3264 - val_categorical_accuracy: 0.6146\n",
            "Epoch 23/200\n",
            "109/109 [==============================] - 5s 41ms/step - loss: 1.3358 - categorical_accuracy: 0.5951 - val_loss: 1.3289 - val_categorical_accuracy: 0.6132\n",
            "Epoch 24/200\n",
            "109/109 [==============================] - 4s 33ms/step - loss: 1.3337 - categorical_accuracy: 0.5948 - val_loss: 1.3270 - val_categorical_accuracy: 0.6130\n",
            "Epoch 25/200\n",
            "109/109 [==============================] - 4s 34ms/step - loss: 1.3317 - categorical_accuracy: 0.5951 - val_loss: 1.3233 - val_categorical_accuracy: 0.6142\n",
            "Epoch 26/200\n",
            "109/109 [==============================] - 4s 38ms/step - loss: 1.3287 - categorical_accuracy: 0.5965 - val_loss: 1.3387 - val_categorical_accuracy: 0.6091\n",
            "Epoch 27/200\n",
            "109/109 [==============================] - 4s 37ms/step - loss: 1.3275 - categorical_accuracy: 0.5969 - val_loss: 1.3282 - val_categorical_accuracy: 0.6138\n",
            "Epoch 28/200\n",
            "109/109 [==============================] - 4s 34ms/step - loss: 1.3206 - categorical_accuracy: 0.5977 - val_loss: 1.3319 - val_categorical_accuracy: 0.6146\n",
            "Epoch 29/200\n",
            "109/109 [==============================] - 4s 36ms/step - loss: 1.3200 - categorical_accuracy: 0.5977 - val_loss: 1.3293 - val_categorical_accuracy: 0.6158\n",
            "Epoch 30/200\n",
            "109/109 [==============================] - 4s 33ms/step - loss: 1.3176 - categorical_accuracy: 0.5996 - val_loss: 1.3283 - val_categorical_accuracy: 0.6177\n",
            "Epoch 31/200\n",
            "109/109 [==============================] - 4s 34ms/step - loss: 1.3181 - categorical_accuracy: 0.5984 - val_loss: 1.3324 - val_categorical_accuracy: 0.6168\n",
            "Epoch 32/200\n",
            "109/109 [==============================] - 4s 35ms/step - loss: 1.3124 - categorical_accuracy: 0.6010 - val_loss: 1.3290 - val_categorical_accuracy: 0.6164\n",
            "Epoch 33/200\n",
            "109/109 [==============================] - 4s 37ms/step - loss: 1.3108 - categorical_accuracy: 0.6000 - val_loss: 1.3258 - val_categorical_accuracy: 0.6149\n",
            "Epoch 34/200\n",
            "109/109 [==============================] - 4s 34ms/step - loss: 1.3073 - categorical_accuracy: 0.6020 - val_loss: 1.3255 - val_categorical_accuracy: 0.6153\n",
            "Epoch 35/200\n",
            "109/109 [==============================] - 4s 36ms/step - loss: 1.3043 - categorical_accuracy: 0.6026 - val_loss: 1.3290 - val_categorical_accuracy: 0.6181\n",
            "Epoch 36/200\n",
            "109/109 [==============================] - 4s 38ms/step - loss: 1.3036 - categorical_accuracy: 0.6017 - val_loss: 1.3242 - val_categorical_accuracy: 0.6170\n",
            "Epoch 37/200\n",
            "109/109 [==============================] - 4s 34ms/step - loss: 1.2981 - categorical_accuracy: 0.6035 - val_loss: 1.3271 - val_categorical_accuracy: 0.6157\n",
            "Epoch 38/200\n",
            "109/109 [==============================] - 4s 36ms/step - loss: 1.3015 - categorical_accuracy: 0.6041 - val_loss: 1.3314 - val_categorical_accuracy: 0.6172\n",
            "Epoch 39/200\n",
            "109/109 [==============================] - 4s 41ms/step - loss: 1.2943 - categorical_accuracy: 0.6058 - val_loss: 1.3182 - val_categorical_accuracy: 0.6200\n",
            "Epoch 40/200\n",
            "109/109 [==============================] - 4s 34ms/step - loss: 1.2916 - categorical_accuracy: 0.6061 - val_loss: 1.3256 - val_categorical_accuracy: 0.6180\n",
            "Epoch 41/200\n",
            "109/109 [==============================] - 4s 34ms/step - loss: 1.2887 - categorical_accuracy: 0.6064 - val_loss: 1.3275 - val_categorical_accuracy: 0.6203\n",
            "Epoch 42/200\n",
            "109/109 [==============================] - 5s 43ms/step - loss: 1.2874 - categorical_accuracy: 0.6076 - val_loss: 1.3262 - val_categorical_accuracy: 0.6184\n",
            "Epoch 43/200\n",
            "109/109 [==============================] - 4s 36ms/step - loss: 1.2853 - categorical_accuracy: 0.6082 - val_loss: 1.3270 - val_categorical_accuracy: 0.6176\n",
            "Epoch 44/200\n",
            "109/109 [==============================] - 4s 34ms/step - loss: 1.2807 - categorical_accuracy: 0.6083 - val_loss: 1.3357 - val_categorical_accuracy: 0.6144\n",
            "Epoch 45/200\n",
            "109/109 [==============================] - 5s 44ms/step - loss: 1.2799 - categorical_accuracy: 0.6085 - val_loss: 1.3334 - val_categorical_accuracy: 0.6163\n",
            "Epoch 46/200\n",
            "109/109 [==============================] - 4s 36ms/step - loss: 1.2786 - categorical_accuracy: 0.6092 - val_loss: 1.3250 - val_categorical_accuracy: 0.6202\n",
            "Epoch 47/200\n",
            "109/109 [==============================] - 4s 34ms/step - loss: 1.2761 - categorical_accuracy: 0.6093 - val_loss: 1.3212 - val_categorical_accuracy: 0.6205\n",
            "Epoch 48/200\n",
            "109/109 [==============================] - 4s 35ms/step - loss: 1.2746 - categorical_accuracy: 0.6098 - val_loss: 1.3379 - val_categorical_accuracy: 0.6170\n",
            "Epoch 49/200\n",
            "109/109 [==============================] - 4s 36ms/step - loss: 1.2729 - categorical_accuracy: 0.6104 - val_loss: 1.3278 - val_categorical_accuracy: 0.6195\n",
            "Epoch 50/200\n",
            "109/109 [==============================] - 4s 34ms/step - loss: 1.2746 - categorical_accuracy: 0.6098 - val_loss: 1.3259 - val_categorical_accuracy: 0.6196\n",
            "Epoch 51/200\n",
            "109/109 [==============================] - 5s 43ms/step - loss: 1.2705 - categorical_accuracy: 0.6098 - val_loss: 1.3310 - val_categorical_accuracy: 0.6198\n",
            "Epoch 52/200\n",
            "109/109 [==============================] - 4s 38ms/step - loss: 1.2668 - categorical_accuracy: 0.6112 - val_loss: 1.3407 - val_categorical_accuracy: 0.6170\n",
            "Epoch 53/200\n",
            "109/109 [==============================] - 4s 34ms/step - loss: 1.2629 - categorical_accuracy: 0.6104 - val_loss: 1.3340 - val_categorical_accuracy: 0.6203\n",
            "Epoch 54/200\n",
            "109/109 [==============================] - 4s 34ms/step - loss: 1.2610 - categorical_accuracy: 0.6141 - val_loss: 1.3449 - val_categorical_accuracy: 0.6175\n",
            "Epoch 55/200\n",
            "109/109 [==============================] - 5s 42ms/step - loss: 1.2613 - categorical_accuracy: 0.6124 - val_loss: 1.3374 - val_categorical_accuracy: 0.6195\n",
            "Epoch 56/200\n",
            "109/109 [==============================] - 4s 31ms/step - loss: 1.2574 - categorical_accuracy: 0.6129 - val_loss: 1.3474 - val_categorical_accuracy: 0.6151\n",
            "Epoch 57/200\n",
            "109/109 [==============================] - 4s 34ms/step - loss: 1.2562 - categorical_accuracy: 0.6138 - val_loss: 1.3314 - val_categorical_accuracy: 0.6190\n",
            "Epoch 58/200\n",
            "109/109 [==============================] - 4s 40ms/step - loss: 1.2509 - categorical_accuracy: 0.6164 - val_loss: 1.3418 - val_categorical_accuracy: 0.6184\n",
            "Epoch 59/200\n",
            "109/109 [==============================] - 4s 35ms/step - loss: 1.2516 - categorical_accuracy: 0.6148 - val_loss: 1.3272 - val_categorical_accuracy: 0.6230\n",
            "Epoch 60/200\n",
            "109/109 [==============================] - 4s 35ms/step - loss: 1.2490 - categorical_accuracy: 0.6169 - val_loss: 1.3342 - val_categorical_accuracy: 0.6180\n",
            "Epoch 61/200\n",
            "109/109 [==============================] - 4s 36ms/step - loss: 1.2485 - categorical_accuracy: 0.6149 - val_loss: 1.3372 - val_categorical_accuracy: 0.6196\n",
            "Epoch 62/200\n",
            "109/109 [==============================] - 4s 39ms/step - loss: 1.2467 - categorical_accuracy: 0.6149 - val_loss: 1.3464 - val_categorical_accuracy: 0.6161\n",
            "Epoch 63/200\n",
            "109/109 [==============================] - 4s 34ms/step - loss: 1.2444 - categorical_accuracy: 0.6171 - val_loss: 1.3366 - val_categorical_accuracy: 0.6174\n",
            "Epoch 64/200\n",
            "109/109 [==============================] - 4s 34ms/step - loss: 1.2479 - categorical_accuracy: 0.6142 - val_loss: 1.3464 - val_categorical_accuracy: 0.6146\n",
            "Epoch 65/200\n",
            "109/109 [==============================] - 5s 44ms/step - loss: 1.2374 - categorical_accuracy: 0.6197 - val_loss: 1.3358 - val_categorical_accuracy: 0.6174\n",
            "Epoch 66/200\n",
            "109/109 [==============================] - 4s 33ms/step - loss: 1.2388 - categorical_accuracy: 0.6168 - val_loss: 1.3376 - val_categorical_accuracy: 0.6175\n",
            "Epoch 67/200\n",
            "109/109 [==============================] - 4s 33ms/step - loss: 1.2371 - categorical_accuracy: 0.6177 - val_loss: 1.3379 - val_categorical_accuracy: 0.6223\n",
            "Epoch 68/200\n",
            "109/109 [==============================] - 4s 39ms/step - loss: 1.2363 - categorical_accuracy: 0.6181 - val_loss: 1.3391 - val_categorical_accuracy: 0.6196\n",
            "Epoch 69/200\n",
            "109/109 [==============================] - 4s 36ms/step - loss: 1.2333 - categorical_accuracy: 0.6188 - val_loss: 1.3340 - val_categorical_accuracy: 0.6201\n",
            "Epoch 70/200\n",
            "109/109 [==============================] - 4s 34ms/step - loss: 1.2288 - categorical_accuracy: 0.6194 - val_loss: 1.3436 - val_categorical_accuracy: 0.6182\n",
            "Epoch 71/200\n",
            "109/109 [==============================] - 4s 39ms/step - loss: 1.2280 - categorical_accuracy: 0.6188 - val_loss: 1.3512 - val_categorical_accuracy: 0.6146\n",
            "Epoch 72/200\n",
            "109/109 [==============================] - 4s 34ms/step - loss: 1.2230 - categorical_accuracy: 0.6222 - val_loss: 1.3473 - val_categorical_accuracy: 0.6194\n",
            "Epoch 73/200\n",
            "109/109 [==============================] - 4s 35ms/step - loss: 1.2216 - categorical_accuracy: 0.6206 - val_loss: 1.3490 - val_categorical_accuracy: 0.6166\n",
            "Epoch 74/200\n",
            "109/109 [==============================] - 4s 38ms/step - loss: 1.2212 - categorical_accuracy: 0.6220 - val_loss: 1.3512 - val_categorical_accuracy: 0.6162\n",
            "Epoch 75/200\n",
            "109/109 [==============================] - 4s 36ms/step - loss: 1.2186 - categorical_accuracy: 0.6228 - val_loss: 1.3553 - val_categorical_accuracy: 0.6176\n",
            "Epoch 76/200\n",
            "109/109 [==============================] - 4s 34ms/step - loss: 1.2179 - categorical_accuracy: 0.6223 - val_loss: 1.3595 - val_categorical_accuracy: 0.6156\n",
            "Epoch 77/200\n",
            "109/109 [==============================] - 4s 36ms/step - loss: 1.2194 - categorical_accuracy: 0.6215 - val_loss: 1.3463 - val_categorical_accuracy: 0.6180\n",
            "Epoch 78/200\n",
            "109/109 [==============================] - 4s 40ms/step - loss: 1.2163 - categorical_accuracy: 0.6233 - val_loss: 1.3454 - val_categorical_accuracy: 0.6172\n",
            "Epoch 79/200\n",
            "109/109 [==============================] - 4s 34ms/step - loss: 1.2099 - categorical_accuracy: 0.6236 - val_loss: 1.3621 - val_categorical_accuracy: 0.6133\n",
            "Epoch 80/200\n",
            "109/109 [==============================] - 4s 34ms/step - loss: 1.2150 - categorical_accuracy: 0.6233 - val_loss: 1.3538 - val_categorical_accuracy: 0.6180\n",
            "Epoch 81/200\n",
            "109/109 [==============================] - 5s 43ms/step - loss: 1.2126 - categorical_accuracy: 0.6234 - val_loss: 1.3509 - val_categorical_accuracy: 0.6167\n",
            "Epoch 82/200\n",
            "109/109 [==============================] - 4s 35ms/step - loss: 1.2062 - categorical_accuracy: 0.6250 - val_loss: 1.3629 - val_categorical_accuracy: 0.6130\n",
            "Epoch 83/200\n",
            "109/109 [==============================] - 4s 34ms/step - loss: 1.2040 - categorical_accuracy: 0.6250 - val_loss: 1.3684 - val_categorical_accuracy: 0.6142\n",
            "Epoch 84/200\n",
            "109/109 [==============================] - 4s 36ms/step - loss: 1.2057 - categorical_accuracy: 0.6252 - val_loss: 1.3570 - val_categorical_accuracy: 0.6149\n",
            "Epoch 85/200\n",
            "109/109 [==============================] - 4s 35ms/step - loss: 1.2006 - categorical_accuracy: 0.6276 - val_loss: 1.3662 - val_categorical_accuracy: 0.6145\n",
            "Epoch 86/200\n",
            "109/109 [==============================] - 4s 34ms/step - loss: 1.2044 - categorical_accuracy: 0.6262 - val_loss: 1.3551 - val_categorical_accuracy: 0.6183\n",
            "Epoch 87/200\n",
            "109/109 [==============================] - 4s 36ms/step - loss: 1.2023 - categorical_accuracy: 0.6267 - val_loss: 1.3543 - val_categorical_accuracy: 0.6184\n",
            "Epoch 88/200\n",
            "109/109 [==============================] - 4s 37ms/step - loss: 1.1986 - categorical_accuracy: 0.6271 - val_loss: 1.3560 - val_categorical_accuracy: 0.6161\n",
            "Epoch 89/200\n",
            "109/109 [==============================] - 4s 35ms/step - loss: 1.1983 - categorical_accuracy: 0.6270 - val_loss: 1.3545 - val_categorical_accuracy: 0.6181\n",
            "Epoch 90/200\n",
            "109/109 [==============================] - 5s 43ms/step - loss: 1.1949 - categorical_accuracy: 0.6289 - val_loss: 1.3657 - val_categorical_accuracy: 0.6152\n",
            "Epoch 91/200\n",
            "109/109 [==============================] - 4s 36ms/step - loss: 1.1931 - categorical_accuracy: 0.6297 - val_loss: 1.3545 - val_categorical_accuracy: 0.6193\n",
            "Epoch 92/200\n",
            "109/109 [==============================] - 4s 34ms/step - loss: 1.1932 - categorical_accuracy: 0.6274 - val_loss: 1.3587 - val_categorical_accuracy: 0.6158\n",
            "Epoch 93/200\n",
            "109/109 [==============================] - 4s 36ms/step - loss: 1.1896 - categorical_accuracy: 0.6290 - val_loss: 1.3621 - val_categorical_accuracy: 0.6174\n",
            "Epoch 94/200\n",
            "109/109 [==============================] - 4s 37ms/step - loss: 1.1884 - categorical_accuracy: 0.6301 - val_loss: 1.3702 - val_categorical_accuracy: 0.6162\n",
            "Epoch 95/200\n",
            "109/109 [==============================] - 4s 33ms/step - loss: 1.1871 - categorical_accuracy: 0.6313 - val_loss: 1.3635 - val_categorical_accuracy: 0.6175\n",
            "Epoch 96/200\n",
            "109/109 [==============================] - 4s 36ms/step - loss: 1.1846 - categorical_accuracy: 0.6304 - val_loss: 1.3680 - val_categorical_accuracy: 0.6172\n",
            "Epoch 97/200\n",
            "109/109 [==============================] - 4s 37ms/step - loss: 1.1828 - categorical_accuracy: 0.6311 - val_loss: 1.3658 - val_categorical_accuracy: 0.6132\n",
            "Epoch 98/200\n",
            "109/109 [==============================] - 4s 34ms/step - loss: 1.1797 - categorical_accuracy: 0.6315 - val_loss: 1.3724 - val_categorical_accuracy: 0.6173\n",
            "Epoch 99/200\n",
            "109/109 [==============================] - 4s 36ms/step - loss: 1.1825 - categorical_accuracy: 0.6323 - val_loss: 1.3744 - val_categorical_accuracy: 0.6158\n",
            "Epoch 100/200\n",
            "109/109 [==============================] - 4s 41ms/step - loss: 1.1799 - categorical_accuracy: 0.6298 - val_loss: 1.3639 - val_categorical_accuracy: 0.6160\n",
            "Epoch 101/200\n",
            "109/109 [==============================] - 4s 34ms/step - loss: 1.1774 - categorical_accuracy: 0.6333 - val_loss: 1.3601 - val_categorical_accuracy: 0.6184\n",
            "Epoch 102/200\n",
            "109/109 [==============================] - 4s 34ms/step - loss: 1.1748 - categorical_accuracy: 0.6337 - val_loss: 1.3679 - val_categorical_accuracy: 0.6174\n",
            "Epoch 103/200\n",
            "109/109 [==============================] - 5s 42ms/step - loss: 1.1745 - categorical_accuracy: 0.6328 - val_loss: 1.3814 - val_categorical_accuracy: 0.6120\n",
            "Epoch 104/200\n",
            "109/109 [==============================] - 4s 35ms/step - loss: 1.1773 - categorical_accuracy: 0.6331 - val_loss: 1.3729 - val_categorical_accuracy: 0.6186\n",
            "Epoch 105/200\n",
            "109/109 [==============================] - 4s 34ms/step - loss: 1.1734 - categorical_accuracy: 0.6319 - val_loss: 1.3646 - val_categorical_accuracy: 0.6172\n",
            "Epoch 106/200\n",
            "109/109 [==============================] - 5s 43ms/step - loss: 1.1726 - categorical_accuracy: 0.6321 - val_loss: 1.3836 - val_categorical_accuracy: 0.6103\n",
            "Epoch 107/200\n",
            "109/109 [==============================] - 4s 36ms/step - loss: 1.1711 - categorical_accuracy: 0.6331 - val_loss: 1.3713 - val_categorical_accuracy: 0.6184\n",
            "Epoch 108/200\n",
            "109/109 [==============================] - 4s 33ms/step - loss: 1.1684 - categorical_accuracy: 0.6340 - val_loss: 1.3800 - val_categorical_accuracy: 0.6138\n",
            "Epoch 109/200\n",
            "109/109 [==============================] - 4s 35ms/step - loss: 1.1694 - categorical_accuracy: 0.6341 - val_loss: 1.3774 - val_categorical_accuracy: 0.6174\n",
            "Epoch 110/200\n",
            "109/109 [==============================] - 4s 41ms/step - loss: 1.1647 - categorical_accuracy: 0.6358 - val_loss: 1.3823 - val_categorical_accuracy: 0.6173\n",
            "Epoch 111/200\n",
            "109/109 [==============================] - 4s 34ms/step - loss: 1.1649 - categorical_accuracy: 0.6346 - val_loss: 1.3815 - val_categorical_accuracy: 0.6151\n",
            "Epoch 112/200\n",
            "109/109 [==============================] - 4s 34ms/step - loss: 1.1630 - categorical_accuracy: 0.6349 - val_loss: 1.3844 - val_categorical_accuracy: 0.6123\n",
            "Epoch 113/200\n",
            "109/109 [==============================] - 5s 44ms/step - loss: 1.1624 - categorical_accuracy: 0.6355 - val_loss: 1.3750 - val_categorical_accuracy: 0.6168\n",
            "Epoch 114/200\n",
            "109/109 [==============================] - 4s 34ms/step - loss: 1.1596 - categorical_accuracy: 0.6370 - val_loss: 1.3827 - val_categorical_accuracy: 0.6162\n",
            "Epoch 115/200\n",
            "109/109 [==============================] - 4s 34ms/step - loss: 1.1592 - categorical_accuracy: 0.6366 - val_loss: 1.3864 - val_categorical_accuracy: 0.6171\n",
            "Epoch 116/200\n",
            "109/109 [==============================] - 4s 37ms/step - loss: 1.1556 - categorical_accuracy: 0.6368 - val_loss: 1.3952 - val_categorical_accuracy: 0.6145\n",
            "Epoch 117/200\n",
            " 29/109 [======>.......................] - ETA: 2s - loss: 1.1410 - categorical_accuracy: 0.6438"
          ]
        },
        {
          "output_type": "error",
          "ename": "KeyboardInterrupt",
          "evalue": "ignored",
          "traceback": [
            "\u001b[0;31m---------------------------------------------------------------------------\u001b[0m",
            "\u001b[0;31mKeyboardInterrupt\u001b[0m                         Traceback (most recent call last)",
            "\u001b[0;32m<ipython-input-107-66b7c9a4c613>\u001b[0m in \u001b[0;36m<cell line: 1>\u001b[0;34m()\u001b[0m\n\u001b[0;32m----> 1\u001b[0;31m model.fit_generator(generator=train_generator,\n\u001b[0m\u001b[1;32m      2\u001b[0m                     \u001b[0mvalidation_data\u001b[0m\u001b[0;34m=\u001b[0m\u001b[0mval_generator\u001b[0m\u001b[0;34m,\u001b[0m\u001b[0;34m\u001b[0m\u001b[0;34m\u001b[0m\u001b[0m\n\u001b[1;32m      3\u001b[0m                     epochs=200)\n",
            "\u001b[0;32m/usr/local/lib/python3.9/dist-packages/keras/engine/training.py\u001b[0m in \u001b[0;36mfit_generator\u001b[0;34m(self, generator, steps_per_epoch, epochs, verbose, callbacks, validation_data, validation_steps, validation_freq, class_weight, max_queue_size, workers, use_multiprocessing, shuffle, initial_epoch)\u001b[0m\n\u001b[1;32m   2634\u001b[0m             \u001b[0mstacklevel\u001b[0m\u001b[0;34m=\u001b[0m\u001b[0;36m2\u001b[0m\u001b[0;34m,\u001b[0m\u001b[0;34m\u001b[0m\u001b[0;34m\u001b[0m\u001b[0m\n\u001b[1;32m   2635\u001b[0m         )\n\u001b[0;32m-> 2636\u001b[0;31m         return self.fit(\n\u001b[0m\u001b[1;32m   2637\u001b[0m             \u001b[0mgenerator\u001b[0m\u001b[0;34m,\u001b[0m\u001b[0;34m\u001b[0m\u001b[0;34m\u001b[0m\u001b[0m\n\u001b[1;32m   2638\u001b[0m             \u001b[0msteps_per_epoch\u001b[0m\u001b[0;34m=\u001b[0m\u001b[0msteps_per_epoch\u001b[0m\u001b[0;34m,\u001b[0m\u001b[0;34m\u001b[0m\u001b[0;34m\u001b[0m\u001b[0m\n",
            "\u001b[0;32m/usr/local/lib/python3.9/dist-packages/keras/utils/traceback_utils.py\u001b[0m in \u001b[0;36merror_handler\u001b[0;34m(*args, **kwargs)\u001b[0m\n\u001b[1;32m     63\u001b[0m         \u001b[0mfiltered_tb\u001b[0m \u001b[0;34m=\u001b[0m \u001b[0;32mNone\u001b[0m\u001b[0;34m\u001b[0m\u001b[0;34m\u001b[0m\u001b[0m\n\u001b[1;32m     64\u001b[0m         \u001b[0;32mtry\u001b[0m\u001b[0;34m:\u001b[0m\u001b[0;34m\u001b[0m\u001b[0;34m\u001b[0m\u001b[0m\n\u001b[0;32m---> 65\u001b[0;31m             \u001b[0;32mreturn\u001b[0m \u001b[0mfn\u001b[0m\u001b[0;34m(\u001b[0m\u001b[0;34m*\u001b[0m\u001b[0margs\u001b[0m\u001b[0;34m,\u001b[0m \u001b[0;34m**\u001b[0m\u001b[0mkwargs\u001b[0m\u001b[0;34m)\u001b[0m\u001b[0;34m\u001b[0m\u001b[0;34m\u001b[0m\u001b[0m\n\u001b[0m\u001b[1;32m     66\u001b[0m         \u001b[0;32mexcept\u001b[0m \u001b[0mException\u001b[0m \u001b[0;32mas\u001b[0m \u001b[0me\u001b[0m\u001b[0;34m:\u001b[0m\u001b[0;34m\u001b[0m\u001b[0;34m\u001b[0m\u001b[0m\n\u001b[1;32m     67\u001b[0m             \u001b[0mfiltered_tb\u001b[0m \u001b[0;34m=\u001b[0m \u001b[0m_process_traceback_frames\u001b[0m\u001b[0;34m(\u001b[0m\u001b[0me\u001b[0m\u001b[0;34m.\u001b[0m\u001b[0m__traceback__\u001b[0m\u001b[0;34m)\u001b[0m\u001b[0;34m\u001b[0m\u001b[0;34m\u001b[0m\u001b[0m\n",
            "\u001b[0;32m/usr/local/lib/python3.9/dist-packages/keras/engine/training.py\u001b[0m in \u001b[0;36mfit\u001b[0;34m(self, x, y, batch_size, epochs, verbose, callbacks, validation_split, validation_data, shuffle, class_weight, sample_weight, initial_epoch, steps_per_epoch, validation_steps, validation_batch_size, validation_freq, max_queue_size, workers, use_multiprocessing)\u001b[0m\n\u001b[1;32m   1683\u001b[0m                         ):\n\u001b[1;32m   1684\u001b[0m                             \u001b[0mcallbacks\u001b[0m\u001b[0;34m.\u001b[0m\u001b[0mon_train_batch_begin\u001b[0m\u001b[0;34m(\u001b[0m\u001b[0mstep\u001b[0m\u001b[0;34m)\u001b[0m\u001b[0;34m\u001b[0m\u001b[0;34m\u001b[0m\u001b[0m\n\u001b[0;32m-> 1685\u001b[0;31m                             \u001b[0mtmp_logs\u001b[0m \u001b[0;34m=\u001b[0m \u001b[0mself\u001b[0m\u001b[0;34m.\u001b[0m\u001b[0mtrain_function\u001b[0m\u001b[0;34m(\u001b[0m\u001b[0miterator\u001b[0m\u001b[0;34m)\u001b[0m\u001b[0;34m\u001b[0m\u001b[0;34m\u001b[0m\u001b[0m\n\u001b[0m\u001b[1;32m   1686\u001b[0m                             \u001b[0;32mif\u001b[0m \u001b[0mdata_handler\u001b[0m\u001b[0;34m.\u001b[0m\u001b[0mshould_sync\u001b[0m\u001b[0;34m:\u001b[0m\u001b[0;34m\u001b[0m\u001b[0;34m\u001b[0m\u001b[0m\n\u001b[1;32m   1687\u001b[0m                                 \u001b[0mcontext\u001b[0m\u001b[0;34m.\u001b[0m\u001b[0masync_wait\u001b[0m\u001b[0;34m(\u001b[0m\u001b[0;34m)\u001b[0m\u001b[0;34m\u001b[0m\u001b[0;34m\u001b[0m\u001b[0m\n",
            "\u001b[0;32m/usr/local/lib/python3.9/dist-packages/tensorflow/python/util/traceback_utils.py\u001b[0m in \u001b[0;36merror_handler\u001b[0;34m(*args, **kwargs)\u001b[0m\n\u001b[1;32m    148\u001b[0m     \u001b[0mfiltered_tb\u001b[0m \u001b[0;34m=\u001b[0m \u001b[0;32mNone\u001b[0m\u001b[0;34m\u001b[0m\u001b[0;34m\u001b[0m\u001b[0m\n\u001b[1;32m    149\u001b[0m     \u001b[0;32mtry\u001b[0m\u001b[0;34m:\u001b[0m\u001b[0;34m\u001b[0m\u001b[0;34m\u001b[0m\u001b[0m\n\u001b[0;32m--> 150\u001b[0;31m       \u001b[0;32mreturn\u001b[0m \u001b[0mfn\u001b[0m\u001b[0;34m(\u001b[0m\u001b[0;34m*\u001b[0m\u001b[0margs\u001b[0m\u001b[0;34m,\u001b[0m \u001b[0;34m**\u001b[0m\u001b[0mkwargs\u001b[0m\u001b[0;34m)\u001b[0m\u001b[0;34m\u001b[0m\u001b[0;34m\u001b[0m\u001b[0m\n\u001b[0m\u001b[1;32m    151\u001b[0m     \u001b[0;32mexcept\u001b[0m \u001b[0mException\u001b[0m \u001b[0;32mas\u001b[0m \u001b[0me\u001b[0m\u001b[0;34m:\u001b[0m\u001b[0;34m\u001b[0m\u001b[0;34m\u001b[0m\u001b[0m\n\u001b[1;32m    152\u001b[0m       \u001b[0mfiltered_tb\u001b[0m \u001b[0;34m=\u001b[0m \u001b[0m_process_traceback_frames\u001b[0m\u001b[0;34m(\u001b[0m\u001b[0me\u001b[0m\u001b[0;34m.\u001b[0m\u001b[0m__traceback__\u001b[0m\u001b[0;34m)\u001b[0m\u001b[0;34m\u001b[0m\u001b[0;34m\u001b[0m\u001b[0m\n",
            "\u001b[0;32m/usr/local/lib/python3.9/dist-packages/tensorflow/python/eager/polymorphic_function/polymorphic_function.py\u001b[0m in \u001b[0;36m__call__\u001b[0;34m(self, *args, **kwds)\u001b[0m\n\u001b[1;32m    892\u001b[0m \u001b[0;34m\u001b[0m\u001b[0m\n\u001b[1;32m    893\u001b[0m       \u001b[0;32mwith\u001b[0m \u001b[0mOptionalXlaContext\u001b[0m\u001b[0;34m(\u001b[0m\u001b[0mself\u001b[0m\u001b[0;34m.\u001b[0m\u001b[0m_jit_compile\u001b[0m\u001b[0;34m)\u001b[0m\u001b[0;34m:\u001b[0m\u001b[0;34m\u001b[0m\u001b[0;34m\u001b[0m\u001b[0m\n\u001b[0;32m--> 894\u001b[0;31m         \u001b[0mresult\u001b[0m \u001b[0;34m=\u001b[0m \u001b[0mself\u001b[0m\u001b[0;34m.\u001b[0m\u001b[0m_call\u001b[0m\u001b[0;34m(\u001b[0m\u001b[0;34m*\u001b[0m\u001b[0margs\u001b[0m\u001b[0;34m,\u001b[0m \u001b[0;34m**\u001b[0m\u001b[0mkwds\u001b[0m\u001b[0;34m)\u001b[0m\u001b[0;34m\u001b[0m\u001b[0;34m\u001b[0m\u001b[0m\n\u001b[0m\u001b[1;32m    895\u001b[0m \u001b[0;34m\u001b[0m\u001b[0m\n\u001b[1;32m    896\u001b[0m       \u001b[0mnew_tracing_count\u001b[0m \u001b[0;34m=\u001b[0m \u001b[0mself\u001b[0m\u001b[0;34m.\u001b[0m\u001b[0mexperimental_get_tracing_count\u001b[0m\u001b[0;34m(\u001b[0m\u001b[0;34m)\u001b[0m\u001b[0;34m\u001b[0m\u001b[0;34m\u001b[0m\u001b[0m\n",
            "\u001b[0;32m/usr/local/lib/python3.9/dist-packages/tensorflow/python/eager/polymorphic_function/polymorphic_function.py\u001b[0m in \u001b[0;36m_call\u001b[0;34m(self, *args, **kwds)\u001b[0m\n\u001b[1;32m    924\u001b[0m       \u001b[0;31m# In this case we have created variables on the first call, so we run the\u001b[0m\u001b[0;34m\u001b[0m\u001b[0;34m\u001b[0m\u001b[0m\n\u001b[1;32m    925\u001b[0m       \u001b[0;31m# defunned version which is guaranteed to never create variables.\u001b[0m\u001b[0;34m\u001b[0m\u001b[0;34m\u001b[0m\u001b[0m\n\u001b[0;32m--> 926\u001b[0;31m       \u001b[0;32mreturn\u001b[0m \u001b[0mself\u001b[0m\u001b[0;34m.\u001b[0m\u001b[0m_no_variable_creation_fn\u001b[0m\u001b[0;34m(\u001b[0m\u001b[0;34m*\u001b[0m\u001b[0margs\u001b[0m\u001b[0;34m,\u001b[0m \u001b[0;34m**\u001b[0m\u001b[0mkwds\u001b[0m\u001b[0;34m)\u001b[0m  \u001b[0;31m# pylint: disable=not-callable\u001b[0m\u001b[0;34m\u001b[0m\u001b[0;34m\u001b[0m\u001b[0m\n\u001b[0m\u001b[1;32m    927\u001b[0m     \u001b[0;32melif\u001b[0m \u001b[0mself\u001b[0m\u001b[0;34m.\u001b[0m\u001b[0m_variable_creation_fn\u001b[0m \u001b[0;32mis\u001b[0m \u001b[0;32mnot\u001b[0m \u001b[0;32mNone\u001b[0m\u001b[0;34m:\u001b[0m\u001b[0;34m\u001b[0m\u001b[0;34m\u001b[0m\u001b[0m\n\u001b[1;32m    928\u001b[0m       \u001b[0;31m# Release the lock early so that multiple threads can perform the call\u001b[0m\u001b[0;34m\u001b[0m\u001b[0;34m\u001b[0m\u001b[0m\n",
            "\u001b[0;32m/usr/local/lib/python3.9/dist-packages/tensorflow/python/eager/polymorphic_function/tracing_compiler.py\u001b[0m in \u001b[0;36m__call__\u001b[0;34m(self, *args, **kwargs)\u001b[0m\n\u001b[1;32m    141\u001b[0m       (concrete_function,\n\u001b[1;32m    142\u001b[0m        filtered_flat_args) = self._maybe_define_function(args, kwargs)\n\u001b[0;32m--> 143\u001b[0;31m     return concrete_function._call_flat(\n\u001b[0m\u001b[1;32m    144\u001b[0m         filtered_flat_args, captured_inputs=concrete_function.captured_inputs)  # pylint: disable=protected-access\n\u001b[1;32m    145\u001b[0m \u001b[0;34m\u001b[0m\u001b[0m\n",
            "\u001b[0;32m/usr/local/lib/python3.9/dist-packages/tensorflow/python/eager/polymorphic_function/monomorphic_function.py\u001b[0m in \u001b[0;36m_call_flat\u001b[0;34m(self, args, captured_inputs, cancellation_manager)\u001b[0m\n\u001b[1;32m   1755\u001b[0m         and executing_eagerly):\n\u001b[1;32m   1756\u001b[0m       \u001b[0;31m# No tape is watching; skip to running the function.\u001b[0m\u001b[0;34m\u001b[0m\u001b[0;34m\u001b[0m\u001b[0m\n\u001b[0;32m-> 1757\u001b[0;31m       return self._build_call_outputs(self._inference_function.call(\n\u001b[0m\u001b[1;32m   1758\u001b[0m           ctx, args, cancellation_manager=cancellation_manager))\n\u001b[1;32m   1759\u001b[0m     forward_backward = self._select_forward_and_backward_functions(\n",
            "\u001b[0;32m/usr/local/lib/python3.9/dist-packages/tensorflow/python/eager/polymorphic_function/monomorphic_function.py\u001b[0m in \u001b[0;36mcall\u001b[0;34m(self, ctx, args, cancellation_manager)\u001b[0m\n\u001b[1;32m    379\u001b[0m       \u001b[0;32mwith\u001b[0m \u001b[0m_InterpolateFunctionError\u001b[0m\u001b[0;34m(\u001b[0m\u001b[0mself\u001b[0m\u001b[0;34m)\u001b[0m\u001b[0;34m:\u001b[0m\u001b[0;34m\u001b[0m\u001b[0;34m\u001b[0m\u001b[0m\n\u001b[1;32m    380\u001b[0m         \u001b[0;32mif\u001b[0m \u001b[0mcancellation_manager\u001b[0m \u001b[0;32mis\u001b[0m \u001b[0;32mNone\u001b[0m\u001b[0;34m:\u001b[0m\u001b[0;34m\u001b[0m\u001b[0;34m\u001b[0m\u001b[0m\n\u001b[0;32m--> 381\u001b[0;31m           outputs = execute.execute(\n\u001b[0m\u001b[1;32m    382\u001b[0m               \u001b[0mstr\u001b[0m\u001b[0;34m(\u001b[0m\u001b[0mself\u001b[0m\u001b[0;34m.\u001b[0m\u001b[0msignature\u001b[0m\u001b[0;34m.\u001b[0m\u001b[0mname\u001b[0m\u001b[0;34m)\u001b[0m\u001b[0;34m,\u001b[0m\u001b[0;34m\u001b[0m\u001b[0;34m\u001b[0m\u001b[0m\n\u001b[1;32m    383\u001b[0m               \u001b[0mnum_outputs\u001b[0m\u001b[0;34m=\u001b[0m\u001b[0mself\u001b[0m\u001b[0;34m.\u001b[0m\u001b[0m_num_outputs\u001b[0m\u001b[0;34m,\u001b[0m\u001b[0;34m\u001b[0m\u001b[0;34m\u001b[0m\u001b[0m\n",
            "\u001b[0;32m/usr/local/lib/python3.9/dist-packages/tensorflow/python/eager/execute.py\u001b[0m in \u001b[0;36mquick_execute\u001b[0;34m(op_name, num_outputs, inputs, attrs, ctx, name)\u001b[0m\n\u001b[1;32m     50\u001b[0m   \u001b[0;32mtry\u001b[0m\u001b[0;34m:\u001b[0m\u001b[0;34m\u001b[0m\u001b[0;34m\u001b[0m\u001b[0m\n\u001b[1;32m     51\u001b[0m     \u001b[0mctx\u001b[0m\u001b[0;34m.\u001b[0m\u001b[0mensure_initialized\u001b[0m\u001b[0;34m(\u001b[0m\u001b[0;34m)\u001b[0m\u001b[0;34m\u001b[0m\u001b[0;34m\u001b[0m\u001b[0m\n\u001b[0;32m---> 52\u001b[0;31m     tensors = pywrap_tfe.TFE_Py_Execute(ctx._handle, device_name, op_name,\n\u001b[0m\u001b[1;32m     53\u001b[0m                                         inputs, attrs, num_outputs)\n\u001b[1;32m     54\u001b[0m   \u001b[0;32mexcept\u001b[0m \u001b[0mcore\u001b[0m\u001b[0;34m.\u001b[0m\u001b[0m_NotOkStatusException\u001b[0m \u001b[0;32mas\u001b[0m \u001b[0me\u001b[0m\u001b[0;34m:\u001b[0m\u001b[0;34m\u001b[0m\u001b[0;34m\u001b[0m\u001b[0m\n",
            "\u001b[0;31mKeyboardInterrupt\u001b[0m: "
          ]
        }
      ]
    },
    {
      "cell_type": "code",
      "source": [
        "del X,Y,x,y"
      ],
      "metadata": {
        "id": "P7Ukr29UZlq8"
      },
      "execution_count": null,
      "outputs": []
    },
    {
      "cell_type": "code",
      "source": [
        "X = np.load(\"/content/drive/MyDrive/trial/test_data.npy\",allow_pickle=True,encoding=\"bytes\")"
      ],
      "metadata": {
        "execution": {
          "iopub.status.busy": "2023-04-01T16:56:37.505800Z",
          "iopub.execute_input": "2023-04-01T16:56:37.506984Z",
          "iopub.status.idle": "2023-04-01T16:56:45.643011Z",
          "shell.execute_reply.started": "2023-04-01T16:56:37.506928Z",
          "shell.execute_reply": "2023-04-01T16:56:45.641807Z"
        },
        "trusted": true,
        "id": "mXMDOMT81sOB"
      },
      "execution_count": null,
      "outputs": []
    },
    {
      "cell_type": "code",
      "source": [
        "x=[]\n",
        "for i in range(len(X)):\n",
        "    for j in range(len(X[i][1])-1):\n",
        "        t = X[i][0][X[i][1][j]:X[i][1][j+1]]\n",
        "        x.append(t)\n",
        "    t = np.array(X[i][0][X[i][1][j]:])\n",
        "    x.append(t)\n",
        "x = np.array(x,dtype=object)"
      ],
      "metadata": {
        "execution": {
          "iopub.status.busy": "2023-04-01T16:57:03.364862Z",
          "iopub.execute_input": "2023-04-01T16:57:03.365296Z",
          "iopub.status.idle": "2023-04-01T16:57:04.528221Z",
          "shell.execute_reply.started": "2023-04-01T16:57:03.365257Z",
          "shell.execute_reply": "2023-04-01T16:57:04.527052Z"
        },
        "trusted": true,
        "id": "m9NCX5DH1sOC"
      },
      "execution_count": null,
      "outputs": []
    },
    {
      "cell_type": "code",
      "source": [
        "x=ke.preprocessing.sequence.pad_sequences(x, padding=\"pre\",maxlen=maxL)\n",
        "x = np.reshape(x,(len(x),maxL,40,1))"
      ],
      "metadata": {
        "execution": {
          "iopub.status.busy": "2023-04-01T16:57:11.295503Z",
          "iopub.execute_input": "2023-04-01T16:57:11.296712Z",
          "iopub.status.idle": "2023-04-01T16:57:14.298047Z",
          "shell.execute_reply.started": "2023-04-01T16:57:11.296653Z",
          "shell.execute_reply": "2023-04-01T16:57:14.296884Z"
        },
        "trusted": true,
        "id": "jiR1DNdI1sOC"
      },
      "execution_count": null,
      "outputs": []
    },
    {
      "cell_type": "code",
      "source": [
        "import pandas as pd\n",
        "gc.enable\n"
      ],
      "metadata": {
        "execution": {
          "iopub.status.busy": "2023-04-01T16:57:18.459541Z",
          "iopub.execute_input": "2023-04-01T16:57:18.460436Z",
          "iopub.status.idle": "2023-04-01T16:57:30.048408Z",
          "shell.execute_reply.started": "2023-04-01T16:57:18.460396Z",
          "shell.execute_reply": "2023-04-01T16:57:30.047036Z"
        },
        "trusted": true,
        "colab": {
          "base_uri": "https://localhost:8080/"
        },
        "id": "jGxn4WyM1sOC",
        "outputId": "d039077b-ef03-4a81-a3c5-3f4b44db29a0"
      },
      "execution_count": null,
      "outputs": [
        {
          "output_type": "execute_result",
          "data": {
            "text/plain": [
              "<function gc.enable()>"
            ]
          },
          "metadata": {},
          "execution_count": 20
        }
      ]
    },
    {
      "cell_type": "code",
      "source": [
        "Y = model.predict(x,verbose=1, batch_size=100)"
      ],
      "metadata": {
        "colab": {
          "base_uri": "https://localhost:8080/"
        },
        "id": "NuzWQiuuanIW",
        "outputId": "e6b11be5-2b3e-41e7-c12e-dcb3d00c047a"
      },
      "execution_count": null,
      "outputs": [
        {
          "output_type": "stream",
          "name": "stdout",
          "text": [
            "5710/5710 [==============================] - 62s 11ms/step\n"
          ]
        }
      ]
    },
    {
      "cell_type": "code",
      "source": [
        "Y=np.argmax(Y,axis=1)\n",
        "ID = np.arange(len(Y))\n",
        "df = pd.DataFrame(data = np.array([ID,Y]).T,columns = [\"index\",\"label\"],index = None)\n",
        "df.to_csv(\"Prediction.csv\",index=False)"
      ],
      "metadata": {
        "id": "hFGTUqZwao1n"
      },
      "execution_count": null,
      "outputs": []
    },
    {
      "cell_type": "code",
      "source": [
        "model.save(\"Model\")"
      ],
      "metadata": {
        "colab": {
          "base_uri": "https://localhost:8080/"
        },
        "id": "fW0dCHgcbqlG",
        "outputId": "928be7bd-edce-4711-e059-4f382e3fbe20"
      },
      "execution_count": null,
      "outputs": [
        {
          "output_type": "stream",
          "name": "stderr",
          "text": [
            "WARNING:absl:Found untraced functions such as _jit_compiled_convolution_op, _jit_compiled_convolution_op, lstm_cell_1_layer_call_fn, lstm_cell_1_layer_call_and_return_conditional_losses, lstm_cell_2_layer_call_fn while saving (showing 5 of 10). These functions will not be directly callable after loading.\n"
          ]
        }
      ]
    }
  ]
}